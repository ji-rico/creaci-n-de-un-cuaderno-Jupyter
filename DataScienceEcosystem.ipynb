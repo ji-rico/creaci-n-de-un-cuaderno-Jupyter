{
 "cells": [
  {
   "cell_type": "markdown",
   "id": "d217f0a4-11b7-4d11-9b23-959fac655d07",
   "metadata": {
    "tags": []
   },
   "source": [
    "# Data Science Tools and Ecosystem"
   ]
  },
  {
   "cell_type": "markdown",
   "id": "9b4df1d8-68f0-4ac6-9d2a-ba7527e15cd8",
   "metadata": {
    "tags": []
   },
   "source": [
    "## En este notebook se resumen las Herramientas y el Ecosistema de la Ciencia de Datos."
   ]
  },
  {
   "cell_type": "markdown",
   "id": "08c3f43e-be2b-4259-90d6-0c9c17f45003",
   "metadata": {
    "tags": []
   },
   "source": [
    "**Objetivos cubiertos en este Notebook:**\n",
    "\n",
    "- Citar los lenguajes populares para la Ciencia de Datos.\n",
    "- IEnumerar algunas de las bibliotecas comúnmente utilizadas en el análisis de datos.\n",
    "- Describir algunas herramientas utilizadas en la Ciencia de Datos.\n",
    "- Mostrar expresiones aritméticas en Python.\n",
    "- Convertir minutos a horas usando código Python."
   ]
  },
  {
   "cell_type": "markdown",
   "id": "85e80878-e025-48d9-b0b5-551d9e364c5d",
   "metadata": {},
   "source": [
    "Lenguajes comúnmente utilizados en Ciencia de Datos:\n",
    "1. Pyhton\n",
    "2. Julia\n",
    "3. R\n",
    "4. SQL"
   ]
  },
  {
   "cell_type": "markdown",
   "id": "1ab044c7-34c8-45c8-97c4-870e15e00644",
   "metadata": {},
   "source": [
    "Bibliotecas comúnmente utilizadas por los Cientificos de Ciencias de Datos:\n",
    "1. Pandas\n",
    "2. Matplotlib\n",
    "3. Numpy"
   ]
  },
  {
   "cell_type": "markdown",
   "id": "3f4c55ec-489d-41ec-8e1f-9d2ad9dffb70",
   "metadata": {},
   "source": [
    "### Herramientas de Ciencia de Datos\n",
    "\n",
    "|Herramientas de Cienica de Datos|\n",
    "|--------------------------------|\n",
    "|RStudio|\n",
    "|Apache|\n",
    "|Jupyter Notebook|"
   ]
  },
  {
   "cell_type": "markdown",
   "id": "babbf6b3-d0a1-4593-904c-3070c8a1a090",
   "metadata": {},
   "source": [
    "### A continuación se muestran algunos ejemplos de evaluación de expresiones aritméticas en Python:\n",
    "\n",
    "|Expresiones aritméticas|\n",
    "|-----------------------|\n",
    "|Suma: + |\n",
    "|Resta: - |\n",
    "|Multiplicación: * |\n",
    "|División: / |\n",
    "|Exponente: ** |\n"
   ]
  },
  {
   "cell_type": "code",
   "execution_count": 2,
   "id": "9d0bb9ff-ff49-4f1f-883c-4b8c4f02c9ae",
   "metadata": {
    "tags": []
   },
   "outputs": [
    {
     "data": {
      "text/plain": [
       "17"
      ]
     },
     "execution_count": 2,
     "metadata": {},
     "output_type": "execute_result"
    }
   ],
   "source": [
    "# Esta es una expresión aritmética simple para multiplicar y luego sumar enteros:\n",
    "resultado = (3 * 4) + 5\n",
    "resultado"
   ]
  },
  {
   "cell_type": "code",
   "execution_count": 3,
   "id": "a27759d8-bdee-4270-ba97-99e572337b56",
   "metadata": {
    "tags": []
   },
   "outputs": [
    {
     "data": {
      "text/plain": [
       "3.3333333333333335"
      ]
     },
     "execution_count": 3,
     "metadata": {},
     "output_type": "execute_result"
    }
   ],
   "source": [
    "# Código para pasar de min a horas. Esto convertirá 200 minutos a horas dividiendo por 60\n",
    "minutos = 200\n",
    "horas = minutos / 60\n",
    "horas"
   ]
  },
  {
   "cell_type": "markdown",
   "id": "07b06eb7-21fa-4df1-8961-950b87c53003",
   "metadata": {},
   "source": [
    "## AUTOR:\n",
    "\n",
    "José Ignacio Rico Camacho"
   ]
  },
  {
   "cell_type": "code",
   "execution_count": null,
   "id": "031361ee-080b-4bbe-b8ad-d2ab006bf869",
   "metadata": {},
   "outputs": [],
   "source": []
  }
 ],
 "metadata": {
  "kernelspec": {
   "display_name": "Python",
   "language": "python",
   "name": "conda-env-python-py"
  },
  "language_info": {
   "codemirror_mode": {
    "name": "ipython",
    "version": 3
   },
   "file_extension": ".py",
   "mimetype": "text/x-python",
   "name": "python",
   "nbconvert_exporter": "python",
   "pygments_lexer": "ipython3",
   "version": "3.7.12"
  }
 },
 "nbformat": 4,
 "nbformat_minor": 5
}
